{
  "nbformat": 4,
  "nbformat_minor": 0,
  "metadata": {
    "colab": {
      "provenance": [],
      "authorship_tag": "ABX9TyOhConxwN8w2rbU1jrGab+R",
      "include_colab_link": true
    },
    "kernelspec": {
      "name": "python3",
      "display_name": "Python 3"
    },
    "language_info": {
      "name": "python"
    }
  },
  "cells": [
    {
      "cell_type": "markdown",
      "metadata": {
        "id": "view-in-github",
        "colab_type": "text"
      },
      "source": [
        "<a href=\"https://colab.research.google.com/github/pebbDev/Statistics-and-Probability/blob/main/UAS_KELOMPOK_STATISTIK_DAN_PROBABILITAS.ipynb\" target=\"_parent\"><img src=\"https://colab.research.google.com/assets/colab-badge.svg\" alt=\"Open In Colab\"/></a>"
      ]
    },
    {
      "cell_type": "code",
      "execution_count": 1,
      "metadata": {
        "colab": {
          "base_uri": "https://localhost:8080/"
        },
        "id": "bM6X2DNDRDCl",
        "outputId": "0ed41436-ab7c-4aea-85e7-04f4a3d6025c"
      },
      "outputs": [
        {
          "output_type": "stream",
          "name": "stdout",
          "text": [
            "1.9054722647301798\n"
          ]
        }
      ],
      "source": [
        "import numpy as np\n",
        "\n",
        "def normal_dist(x, mean, sd):\n",
        "    prob_density = (np.pi*sd) * np.exp(-0.5*((x-mean)/sd)**2)\n",
        "    return prob_density\n",
        "\n",
        "mean = 0\n",
        "sd = 1\n",
        "x = 1\n",
        "result = normal_dist(x, mean, sd)\n",
        "print(result)"
      ]
    },
    {
      "cell_type": "code",
      "source": [
        "import numpy as np\n",
        "import matplotlib.pyplot as plt\n",
        "\n",
        "# Mean of the distribution\n",
        "Mean = 100\n",
        "\n",
        "# satndard deviation of the distribution\n",
        "Standard_deviation  = 5\n",
        "\n",
        "# size\n",
        "size = 100000\n",
        "\n",
        "# creating a normal distribution data\n",
        "values = np.random.normal(Mean, Standard_deviation, size)\n",
        "\n",
        "# plotting histograph\n",
        "plt.hist(values, 100)\n",
        "# plotting mean line\n",
        "plt.axvline(values.mean(), color='k', linestyle='dashed', linewidth=2)\n",
        "plt.show()"
      ],
      "metadata": {
        "colab": {
          "base_uri": "https://localhost:8080/",
          "height": 430
        },
        "id": "m8KLZ6r-Rh7A",
        "outputId": "5064dad2-44fc-4801-a3c8-8fca7568c3ab"
      },
      "execution_count": 2,
      "outputs": [
        {
          "output_type": "display_data",
          "data": {
            "text/plain": [
              "<Figure size 640x480 with 1 Axes>"
            ],
            "image/png": "[encoded data removed]"
          },
          "metadata": {}
        }
      ]
    },
    {
      "cell_type": "code",
      "source": [
        "# import required libraries\n",
        "from scipy.stats import norm\n",
        "import numpy as np\n",
        "\n",
        "# Given information\n",
        "mean = 78\n",
        "std_dev = 25\n",
        "total_students = 100\n",
        "score = 60\n",
        "\n",
        "# Calculate z-score for 60\n",
        "z_score = (score - mean) / std_dev\n",
        "\n",
        "# Calculate the probability of getting a score less than 60\n",
        "prob = norm.cdf(z_score)\n",
        "\n",
        "# Calculate the percentage of students who got less than 60 marks\n",
        "percent = prob * 100\n",
        "\n",
        "# Print the result\n",
        "print(\"Percentage of students who got less than 60 marks:\", round(percent, 2), \"%\")"
      ],
      "metadata": {
        "colab": {
          "base_uri": "https://localhost:8080/"
        },
        "id": "tWM83MSBSadD",
        "outputId": "61e5fbd7-6c1a-4067-d001-d3212fe9d3fd"
      },
      "execution_count": 3,
      "outputs": [
        {
          "output_type": "stream",
          "name": "stdout",
          "text": [
            "Percentage of students who got less than 60 marks: 23.58 %\n"
          ]
        }
      ]
    },
    {
      "cell_type": "code",
      "source": [
        "# import required libraries\n",
        "from scipy.stats import norm\n",
        "import numpy as np\n",
        "\n",
        "# Given information\n",
        "mean = 78\n",
        "std_dev = 25\n",
        "total_students = 100\n",
        "score = 70\n",
        "\n",
        "# Calculate z-score for 70\n",
        "z_score = (score - mean) / std_dev\n",
        "\n",
        "# Calculate the probability of getting a more than 70\n",
        "prob = norm.cdf(z_score)\n",
        "\n",
        "# Calculate the percentage of students who got more than 70 marks\n",
        "percent = (1-prob) * 100\n",
        "\n",
        "# Print the result\n",
        "print(\"Percentage of students who got more than /70 marks: \", round(percent, 2), \" %\")"
      ],
      "metadata": {
        "colab": {
          "base_uri": "https://localhost:8080/"
        },
        "id": "4pCdJkU4Szt9",
        "outputId": "5c117b39-75e3-478b-dcba-174450844399"
      },
      "execution_count": 4,
      "outputs": [
        {
          "output_type": "stream",
          "name": "stdout",
          "text": [
            "Percentage of students who got more than /70 marks:  62.55  %\n"
          ]
        }
      ]
    },
    {
      "cell_type": "code",
      "source": [
        "# import required libraries\n",
        "from scipy.stats import norm\n",
        "import numpy as np\n",
        "\n",
        "# Given information\n",
        "mean = 78\n",
        "std_dev = 25\n",
        "total_students = 100\n",
        "min_score = 75\n",
        "max_score = 85\n",
        "\n",
        "# Calculate z-score for 75\n",
        "z_min_score = (min_score - mean) / std_dev\n",
        "# Calculate z-score for 85\n",
        "z_max_score = (max_score - mean) / std_dev\n",
        "\n",
        "\n",
        "# Calculate the probability of getting less than 70\n",
        "min_prob = norm.cdf(z_min_score)\n",
        "\n",
        "# Calculate the probability of getting  less than 85\n",
        "max_prob = norm.cdf(z_max_score)\n",
        "\n",
        "percent = (max_prob-min_prob) * 100\n",
        "\n",
        "# Print the result\n",
        "print(\"Percentage of students who got marks between 75 and 85 is\", round(percent, 2), \"%\")"
      ],
      "metadata": {
        "colab": {
          "base_uri": "https://localhost:8080/"
        },
        "id": "c7UjdkbdS1Xz",
        "outputId": "4180954a-033e-42e5-dcab-ce0e956a7f05"
      },
      "execution_count": 5,
      "outputs": [
        {
          "output_type": "stream",
          "name": "stdout",
          "text": [
            "Percentage of students who got marks between 75 and 85 is 15.8 %\n"
          ]
        }
      ]
    }
  ]
}