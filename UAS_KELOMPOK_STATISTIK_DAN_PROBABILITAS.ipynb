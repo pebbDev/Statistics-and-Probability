{
  "nbformat": 4,
  "nbformat_minor": 0,
  "metadata": {
    "colab": {
      "provenance": [],
      "authorship_tag": "ABX9TyP/xZZaYK/3JGZeYNfm3mWN",
      "include_colab_link": true
    },
    "kernelspec": {
      "name": "python3",
      "display_name": "Python 3"
    },
    "language_info": {
      "name": "python"
    }
  },
  "cells": [
    {
      "cell_type": "markdown",
      "metadata": {
        "id": "view-in-github",
        "colab_type": "text"
      },
      "source": [
        "<a href=\"https://colab.research.google.com/github/pebbDev/Statistics-and-Probability/blob/main/UAS_KELOMPOK_STATISTIK_DAN_PROBABILITAS.ipynb\" target=\"_parent\"><img src=\"https://colab.research.google.com/assets/colab-badge.svg\" alt=\"Open In Colab\"/></a>"
      ]
    },
    {
      "cell_type": "code",
      "execution_count": 14,
      "metadata": {
        "colab": {
          "base_uri": "https://localhost:8080/"
        },
        "id": "bM6X2DNDRDCl",
        "outputId": "6369be5d-30e8-4655-a17d-937b0c121ec7"
      },
      "outputs": [
        {
          "output_type": "stream",
          "name": "stdout",
          "text": [
            "1.9054722647301798\n"
          ]
        }
      ],
      "source": [
        "import numpy as np\n",
        "\n",
        "def iq_score_probabilit(x, mean, sd):\n",
        "    prob_density = (np.pi*sd) * np.exp(-0.5*((x-mean)/sd)**2)\n",
        "    return prob_density\n",
        "\n",
        "mean = 0\n",
        "sd = 1\n",
        "x = 1\n",
        "result = iq_score_probabilit(x, mean, sd)\n",
        "print(result)"
      ]
    },
    {
      "cell_type": "code",
      "source": [
        "import numpy as np\n",
        "import matplotlib.pyplot as plt\n",
        "\n",
        "# Mean of the distribution\n",
        "Mean = 100\n",
        "\n",
        "# satndard deviation of the distribution\n",
        "Standard_deviation  = 5\n",
        "\n",
        "# size\n",
        "size = 100000\n",
        "\n",
        "# creating a normal distribution data\n",
        "values = np.random.normal(Mean, Standard_deviation, size)\n",
        "\n",
        "# plotting histograph\n",
        "plt.hist(values, 100)\n",
        "# plotting mean line\n",
        "plt.axvline(values.mean(), color='k', linestyle='dashed', linewidth=2)\n",
        "plt.show()\n"
      ],
      "metadata": {
        "colab": {
          "base_uri": "https://localhost:8080/",
          "height": 434
        },
        "id": "m8KLZ6r-Rh7A",
        "outputId": "89c33f20-e923-4a4c-edb1-2ec2cabf4dab"
      },
      "execution_count": 15,
      "outputs": [
        {
          "output_type": "display_data",
          "data": {
            "text/plain": [
              "<Figure size 640x480 with 1 Axes>"
            ],
            "image/png": "[encoded data removed]"
          },
          "metadata": {}
        }
      ]
    },
    {
      "cell_type": "code",
      "source": [
        "# import required libraries\n",
        "from scipy.stats import norm\n",
        "import numpy as np\n",
        "\n",
        "# Given information\n",
        "mean = 110\n",
        "std_dev = 15\n",
        "total_students = 1000\n",
        "score = 80\n",
        "\n",
        "# Calculate z-score for 80\n",
        "z_score = (score - mean) / std_dev\n",
        "\n",
        "# Calculate the probability of getting a score less than 80\n",
        "prob = norm.cdf(z_score)\n",
        "\n",
        "# Calculate the percentage of students who got less than 80 marks\n",
        "percent = prob * 100\n",
        "\n",
        "# Print the result\n",
        "print(\"Percentage of students with IQ below 80 is\", round(percent, 2), \"%\")"
      ],
      "metadata": {
        "colab": {
          "base_uri": "https://localhost:8080/"
        },
        "id": "tWM83MSBSadD",
        "outputId": "5690c8e2-8ad8-4eba-8cfe-e837e1876acc"
      },
      "execution_count": 17,
      "outputs": [
        {
          "output_type": "stream",
          "name": "stdout",
          "text": [
            "Percentage of students with IQ below 80 is 2.28 %\n"
          ]
        }
      ]
    },
    {
      "cell_type": "code",
      "source": [
        "# import required libraries\n",
        "from scipy.stats import norm\n",
        "import numpy as np\n",
        "\n",
        "# Given information\n",
        "mean = 110\n",
        "std_dev = 15\n",
        "total_students = 1000\n",
        "min_score = 90\n",
        "max_score = 109\n",
        "\n",
        "# Calculate z-score for 90\n",
        "z_min_score = (min_score - mean) / std_dev\n",
        "# Calculate z-score for 109\n",
        "z_max_score = (max_score - mean) / std_dev\n",
        "\n",
        "\n",
        "# Calculate the probability of getting less than 90\n",
        "min_prob = norm.cdf(z_min_score)\n",
        "\n",
        "# Calculate the probability of getting  less than 109\n",
        "max_prob = norm.cdf(z_max_score)\n",
        "\n",
        "percent = (max_prob-min_prob) * 100\n",
        "\n",
        "# Print the result\n",
        "print(\"Percentage of students with IQ between 90 and 109 is\", round(percent, 2), \"%\")\n"
      ],
      "metadata": {
        "colab": {
          "base_uri": "https://localhost:8080/"
        },
        "id": "c7UjdkbdS1Xz",
        "outputId": "6e45d0e8-b8a5-4c71-b7c4-79201bfb5752"
      },
      "execution_count": 18,
      "outputs": [
        {
          "output_type": "stream",
          "name": "stdout",
          "text": [
            "Percentage of students with IQ between 90 and 109 is 38.22 %\n"
          ]
        }
      ]
    },
    {
      "cell_type": "code",
      "source": [
        "# import required libraries\n",
        "from scipy.stats import norm\n",
        "import numpy as np\n",
        "\n",
        "# Given information\n",
        "mean = 110\n",
        "std_dev = 15\n",
        "total_students = 1000\n",
        "score = 113\n",
        "\n",
        "# Calculate z-score for 113\n",
        "z_score = (score - mean) / std_dev\n",
        "\n",
        "# Calculate the probability of getting a more than 113\n",
        "prob = norm.cdf(z_score)\n",
        "\n",
        "# Calculate the percentage of students who got more than 113 marks\n",
        "percent = (1-prob) * 100\n",
        "\n",
        "# Print the result\n",
        "print(\"Percentage of students with IQ above 113 is \", round(percent, 2), \" %\")\n"
      ],
      "metadata": {
        "colab": {
          "base_uri": "https://localhost:8080/"
        },
        "id": "252b5w5cp3fT",
        "outputId": "102c9553-ed6e-4ac2-9d30-7ac9f50eac24"
      },
      "execution_count": 20,
      "outputs": [
        {
          "output_type": "stream",
          "name": "stdout",
          "text": [
            "Percentage of students with IQ above 113 is  42.07  %\n"
          ]
        }
      ]
    }
  ]
}